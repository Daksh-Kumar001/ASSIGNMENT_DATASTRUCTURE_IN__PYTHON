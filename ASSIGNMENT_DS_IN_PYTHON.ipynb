{
 "cells": [
  {
   "cell_type": "code",
   "execution_count": 3,
   "id": "7b3b7e10-8f68-45bc-86e9-23cbd469e494",
   "metadata": {},
   "outputs": [],
   "source": [
    "# QUESTION-1. Write a code to reverse a string.\n",
    "\n",
    "\n",
    "# ANSWER- def reverse_string(s):\n",
    "#         return s[::-1]\n",
    "\n",
    "#Example usage\n",
    "\n",
    "# print(reverse_string(\"hello\"))  # Output: \"olleh\"\n"
   ]
  },
  {
   "cell_type": "code",
   "execution_count": null,
   "id": "2d0b41fc-e572-4118-9583-6b08b3ef303b",
   "metadata": {},
   "outputs": [],
   "source": [
    "# QUESTION-2. Write a code to count the number of vowels in a string\n",
    "\n",
    "# ANSWER- def count_vowels(s):\n",
    "#         vowels = \"aeiouAEIOU\"\n",
    "#         return sum(1 for char in s if char in vowels)\n",
    "\n",
    "#Example usage\n",
    "# print(count_vowels(\"hello world\"))  # Output: 3"
   ]
  },
  {
   "cell_type": "code",
   "execution_count": null,
   "id": "2211e24a-bc01-4f55-9a9d-7ab08c02d6dc",
   "metadata": {},
   "outputs": [],
   "source": [
    "# QUESTION-3. Write a code to check if a given string is a palindrome or not\n",
    "\n",
    "# ANSWER- def is_palindrome(s):\n",
    "#         return s == s[::-1]\n",
    "\n",
    "#Example usage\n",
    "# print(is_palindrome(\"racecar\"))  # Output: True\n",
    "# print(is_palindrome(\"hello\"))    # Output: False"
   ]
  },
  {
   "cell_type": "code",
   "execution_count": null,
   "id": "47fdef52-6c38-4129-aaa0-8ca7639aed08",
   "metadata": {},
   "outputs": [],
   "source": [
    "# QUESTION-4. Write a code to check if two given strings are anagrams of each other\n",
    "\n",
    "# ANSWER- def are_anagrams(s1, s2):\n",
    "#         return sorted(s1) == sorted(s2)\n",
    "\n",
    "#Example usage\n",
    "# print(are_anagrams(\"listen\", \"silent\"))  # Output: True\n",
    "# print(are_anagrams(\"hello\", \"world\"))    # Output: False\n"
   ]
  },
  {
   "cell_type": "code",
   "execution_count": null,
   "id": "c03fac4b-f2a9-4f1a-bd8f-578195657824",
   "metadata": {},
   "outputs": [],
   "source": [
    "# QUESTION-5. Write a code to find all occurrences of a given substring within another string\n",
    "\n",
    "# ANSWER- def find_all_occurrences(string, substring):\n",
    "#         occurrences = []\n",
    "#         start = 0\n",
    "#         while start < len(string):\n",
    "#         start = string.find(substring, start)\n",
    "#         if start == -1:\n",
    "#             break\n",
    "#         occurrences.append(start)\n",
    "#         start += 1\n",
    "#         return occurrences\n",
    "\n",
    "#Example usage\n",
    "# print(find_all_occurrences(\"hello world hello\", \"hello\"))  # Output: [0, 12]"
   ]
  },
  {
   "cell_type": "code",
   "execution_count": null,
   "id": "de2f0a7f-5260-4759-9d34-6e3757c0ce40",
   "metadata": {},
   "outputs": [],
   "source": [
    "# QUESTION-6. Write a code to perform basic string compression using the counts of repeated characters\n",
    "\n",
    "# ANSWER- def compress_string(s):\n",
    "#     compressed = []\n",
    "#     count = 1\n",
    "#     for i in range(1, len(s)):\n",
    "#         if s[i] == s[i - 1]:\n",
    "#             count += 1\n",
    "#         else:\n",
    "#             compressed.append(s[i - 1] + str(count))\n",
    "#             count = 1\n",
    "#     compressed.append(s[-1] + str(count))\n",
    "#     return ''.join(compressed)\n",
    "\n",
    "# Example usage\n",
    "# print(compress_string(\"aaabbcccc\"))  # Output: \"a3b2c4\"\n"
   ]
  },
  {
   "cell_type": "code",
   "execution_count": null,
   "id": "8f9340f6-e612-44f7-9fec-e5d27e2b01c0",
   "metadata": {},
   "outputs": [],
   "source": [
    "# QUESTION- 7. Write a code to determine if a string has all unique characters\n",
    "\n",
    "# ANSWER-def has_unique_characters(s):\n",
    "#        return len(s) == len(set(s))\n",
    "\n",
    "# Example usage\n",
    "# print(has_unique_characters(\"abcdef\"))  # Output: True\n",
    "# print(has_unique_characters(\"hello\"))   # Output: False"
   ]
  },
  {
   "cell_type": "code",
   "execution_count": null,
   "id": "5ad6e617-8c14-4810-8ec4-64b4827d0647",
   "metadata": {},
   "outputs": [],
   "source": [
    "# QUESTION- 8. Write a code to convert a given string to uppercase or lowercase\n",
    "\n",
    "# ANSWER- def to_uppercase(s):\n",
    "#     return s.upper()\n",
    "\n",
    "# def to_lowercase(s):\n",
    "#     return s.lower()\n",
    "\n",
    "# Example usage\n",
    "# print(to_uppercase(\"hello\"))  # Output: \"HELLO\"\n",
    "# print(to_lowercase(\"HELLO\"))  # Output: \"hello\""
   ]
  },
  {
   "cell_type": "code",
   "execution_count": null,
   "id": "d104e9c5-1053-4dd3-bfee-18ff8a04169c",
   "metadata": {},
   "outputs": [],
   "source": [
    "# QUESTION- 9. Write a code to count the number of words in a string\n",
    "\n",
    "# ANSWER- def count_words(s):\n",
    "#     return len(s.split())\n",
    "\n",
    "# Example usage\n",
    "# print(count_words(\"hello world\"))  # Output: 2"
   ]
  },
  {
   "cell_type": "code",
   "execution_count": null,
   "id": "a03db5db-3ce8-47b4-8b09-81ee4003498b",
   "metadata": {},
   "outputs": [],
   "source": [
    "# QUESTION- 10. Write a code to concatenate two strings without using the + operator\n",
    "\n",
    "# ANSWER- def concatenate_strings(s1, s2):\n",
    "#     return \"{}{}\".format(s1, s2)\n",
    "\n",
    "# Example usage\n",
    "# print(concatenate_strings(\"hello\", \"world\"))  # Output: \"helloworld\""
   ]
  },
  {
   "cell_type": "code",
   "execution_count": null,
   "id": "78e473db-4446-44f5-8ad1-23fee6bd27f5",
   "metadata": {},
   "outputs": [],
   "source": [
    "# QUESTION- 11. Write a code to remove all occurrences of a specific element from a list\n",
    "\n",
    "# ANSWER- def remove_all_occurrences(lst, elem):\n",
    "#         return [x for x in lst if x != elem]\n",
    "\n",
    "# Example usage\n",
    "# print(remove_all_occurrences([1, 2, 3, 2, 4], 2))  # Output: [1, 3, 4]"
   ]
  },
  {
   "cell_type": "code",
   "execution_count": null,
   "id": "00f854fd-abce-45d1-8a3b-52087e3e1c17",
   "metadata": {},
   "outputs": [],
   "source": [
    "# QUESTION- 12. Implement a code to find the second largest number in a given list of integers\n",
    "\n",
    "# ANSWER- def second_largest(numbers):\n",
    "#     unique_numbers = list(set(numbers))\n",
    "#     unique_numbers.sort()\n",
    "#     return unique_numbers[-2] if len(unique_numbers) >= 2 else None\n",
    "\n",
    "# Example usage\n",
    "# print(second_largest([10, 20, 4, 45, 99]))  # Output: 45\n"
   ]
  },
  {
   "cell_type": "code",
   "execution_count": null,
   "id": "1edd9ada-34ca-49fa-b704-9356e02228fe",
   "metadata": {},
   "outputs": [],
   "source": [
    "# QUESTION- 13. Create a code to count the occurrences of each element in a list and return a dictionary with elements as keys and their counts as values\n",
    "\n",
    "# ANSWER- from collections import Counter\n",
    "#         def count_occurrences(lst):\n",
    "#         return dict(Counter(lst))\n",
    "\n",
    "# Example usage\n",
    "# print(count_occurrences([\"apple\", \"banana\", \"apple\", \"orange\", \"banana\", \"banana\"]))\n",
    "# Output: {\"apple\": 2, \"banana\": 3, \"orange\": 1}"
   ]
  },
  {
   "cell_type": "code",
   "execution_count": null,
   "id": "7f1c6364-1987-4c3a-b6c3-a04eefd9677c",
   "metadata": {},
   "outputs": [],
   "source": [
    "# QUESTION- 14. Write a code to reverse a list in-place without using any built-in reverse functions.\n",
    "\n",
    "# ANSWER- def reverse_list(lst):\n",
    "#         for i in range(len(lst) // 2):\n",
    "#         lst[i], lst[-i - 1] = lst[-i - 1], lst[i]\n",
    "\n",
    "# Example usage\n",
    "# numbers = [1, 2, 3, 4, 5]\n",
    "# reverse_list(numbers)\n",
    "# print(numbers)  # Output: [5, 4, 3, 2, 1]"
   ]
  },
  {
   "cell_type": "code",
   "execution_count": null,
   "id": "ac9aacb1-871c-4041-9e6d-9b1368fea8f8",
   "metadata": {},
   "outputs": [],
   "source": [
    "# QUESTION- 15. Implement a code to find and remove duplicates from a list while preserving the original order of elements\n",
    "\n",
    "# ANSWER- def remove_duplicates(lst):\n",
    "#         seen = set()\n",
    "#         return [x for x in lst if not (x in seen or seen.add(x))]\n",
    "\n",
    "# Example usage\n",
    "# print(remove_duplicates([1, 2, 2, 3, 4, 3, 5]))  # Output: [1, 2, 3, 4, 5]"
   ]
  },
  {
   "cell_type": "code",
   "execution_count": null,
   "id": "bc0231f4-bfb9-455a-a1c3-e193ca37a68e",
   "metadata": {},
   "outputs": [],
   "source": [
    "# QUESTION- 16. Create a code to check if a given list is sorted (either in ascending or descending order) or not\n",
    "\n",
    "# ANSWER- def is_sorted(lst):\n",
    "#         return lst == sorted(lst) or lst == sorted(lst, reverse=True)\n",
    "\n",
    "# Example usage\n",
    "# print(is_sorted([1, 2, 3, 4]))     # Output: True\n",
    "# print(is_sorted([4, 3, 2, 1]))     # Output: True\n",
    "# print(is_sorted([1, 3, 2, 4]))     # Output: False"
   ]
  },
  {
   "cell_type": "code",
   "execution_count": null,
   "id": "6651535d-83dd-4f14-a0e8-7fc9dcfddd84",
   "metadata": {},
   "outputs": [],
   "source": [
    "# QUESTION- 17. Write a code to merge two sorted lists into a single sorted list\n",
    "\n",
    "# ANSWER- def merge_sorted_lists(lst1, lst2):\n",
    "#         return sorted(lst1 + lst2)\n",
    "\n",
    "# Example usage\n",
    "# print(merge_sorted_lists([1, 3, 5], [2, 4, 6]))  # Output: [1, 2, 3, 4, 5, 6]"
   ]
  },
  {
   "cell_type": "code",
   "execution_count": null,
   "id": "e4fa60a1-d49b-4b59-b203-bab3070fc266",
   "metadata": {},
   "outputs": [],
   "source": [
    "# QUESTION- 18. Implement a code to find the intersection of two given lists\n",
    "\n",
    "# ANSWER- def list_intersection(lst1, lst2):\n",
    "#     return list(set(lst1) & set(lst2))\n",
    "\n",
    "# Example usage\n",
    "# print(list_intersection([1, 2, 3, 4], [3, 4, 5, 6]))  # Output: [3, 4]"
   ]
  },
  {
   "cell_type": "code",
   "execution_count": null,
   "id": "121f3b95-d05a-4d20-b29e-c1e0346acdca",
   "metadata": {},
   "outputs": [],
   "source": [
    "# QUESTION- 19. Create a code to find the union of two lists without duplicates\n",
    "\n",
    "# ANSWER- def list_union(lst1, lst2):\n",
    "#     return list(set(lst1) | set(lst2))\n",
    "\n",
    "# Example usage\n",
    "# print(list_union([1, 2, 3], [3, 4, 5]))  # Output: [1, 2, 3, 4, 5]"
   ]
  },
  {
   "cell_type": "code",
   "execution_count": null,
   "id": "0f841307-a863-4ada-911c-357e849c77da",
   "metadata": {},
   "outputs": [],
   "source": [
    "# QUESTION- 20. Write a code to shuffle a given list randomly without using any built-in shuffle functions\n",
    "\n",
    "# ANSWER- import random\n",
    "\n",
    "# def shuffle_list(lst):\n",
    "#     n = len(lst)\n",
    "#     for i in range(n):\n",
    "#         j = random.randint(0, n - 1)\n",
    "#         lst[i], lst[j] = lst[j], lst[i]\n",
    "\n",
    "# Example usage\n",
    "# numbers = [1, 2, 3, 4, 5]\n",
    "# shuffle_list(numbers)\n",
    "# print(numbers)\n"
   ]
  },
  {
   "cell_type": "code",
   "execution_count": null,
   "id": "e1d9d1b9-df31-45c6-be74-5d9209ddde51",
   "metadata": {},
   "outputs": [],
   "source": [
    "# QUESTION- 21. Write a code that takes two tuples as input and returns a new tuple containing elements that are common to both input tuples\n",
    "\n",
    "# ANSWER- def common_elements(tuple1, tuple2):\n",
    "#     return tuple(set(tuple1) & set(tuple2))\n",
    "\n",
    "# Example usage\n",
    "# print(common_elements((1, 2, 3), (2, 3, 4)))  # Output: (2, 3)"
   ]
  },
  {
   "cell_type": "code",
   "execution_count": null,
   "id": "9dd15003-6a20-4abb-9f22-dfe6c2217f68",
   "metadata": {},
   "outputs": [],
   "source": [
    "# QUESTION- 22. Create a code that prompts the user to enter two sets of integers separated by commas. Then, print the intersection of these two sets\n",
    "\n",
    "# ANSWER- def set_intersection():\n",
    "#     set1 = set(map(int, input(\"Enter the first set of numbers, separated by commas: \").split(\",\")))\n",
    "#     set2 = set(map(int, input(\"Enter the second set of numbers, separated by commas: \").split(\",\")))\n",
    "#     print(\"Intersection:\", set1 & set2)\n",
    "\n",
    "# Example usage\n",
    "# Input: \"1,2,3,4\" and \"3,4,5,6\"\n",
    "# Output: \"Intersection: {3, 4}\""
   ]
  },
  {
   "cell_type": "code",
   "execution_count": null,
   "id": "ff5b7aec-7284-44a4-8da9-ff942a97e79f",
   "metadata": {},
   "outputs": [],
   "source": [
    "# QUESTION- 23. Write a code to concatenate two tuples. The function should take two tuples as input and return a new tuple containing elements from both input tuples\n",
    "\n",
    "# ANSWER- def concatenate_tuples(tuple1, tuple2):\n",
    "#     return"
   ]
  }
 ],
 "metadata": {
  "kernelspec": {
   "display_name": "Python 3 (ipykernel)",
   "language": "python",
   "name": "python3"
  },
  "language_info": {
   "codemirror_mode": {
    "name": "ipython",
    "version": 3
   },
   "file_extension": ".py",
   "mimetype": "text/x-python",
   "name": "python",
   "nbconvert_exporter": "python",
   "pygments_lexer": "ipython3",
   "version": "3.12.7"
  }
 },
 "nbformat": 4,
 "nbformat_minor": 5
}
